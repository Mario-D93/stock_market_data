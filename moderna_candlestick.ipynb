{
 "cells": [
  {
   "cell_type": "code",
   "execution_count": 1,
   "metadata": {},
   "outputs": [
    {
     "ename": "ModuleNotFoundError",
     "evalue": "No module named 'pandas_datareader'",
     "output_type": "error",
     "traceback": [
      "\u001b[0;31m---------------------------------------------------------------------------\u001b[0m",
      "\u001b[0;31mModuleNotFoundError\u001b[0m                       Traceback (most recent call last)",
      "\u001b[0;32m<ipython-input-1-116cd8d789d4>\u001b[0m in \u001b[0;36m<module>\u001b[0;34m\u001b[0m\n\u001b[1;32m      1\u001b[0m \u001b[0;32mimport\u001b[0m \u001b[0mpandas\u001b[0m \u001b[0;32mas\u001b[0m \u001b[0mpd\u001b[0m\u001b[0;34m\u001b[0m\u001b[0;34m\u001b[0m\u001b[0m\n\u001b[0;32m----> 2\u001b[0;31m \u001b[0;32mfrom\u001b[0m \u001b[0mpandas_datareader\u001b[0m \u001b[0;32mimport\u001b[0m \u001b[0mdata\u001b[0m\u001b[0;34m\u001b[0m\u001b[0;34m\u001b[0m\u001b[0m\n\u001b[0m\u001b[1;32m      3\u001b[0m \u001b[0;32mimport\u001b[0m \u001b[0mdatetime\u001b[0m\u001b[0;34m\u001b[0m\u001b[0;34m\u001b[0m\u001b[0m\n\u001b[1;32m      4\u001b[0m \u001b[0;32mfrom\u001b[0m \u001b[0mbokeh\u001b[0m\u001b[0;34m.\u001b[0m\u001b[0mplotting\u001b[0m \u001b[0;32mimport\u001b[0m \u001b[0mfigure\u001b[0m\u001b[0;34m,\u001b[0m \u001b[0mshow\u001b[0m\u001b[0;34m,\u001b[0m \u001b[0moutput_file\u001b[0m\u001b[0;34m\u001b[0m\u001b[0;34m\u001b[0m\u001b[0m\n\u001b[1;32m      5\u001b[0m \u001b[0;34m\u001b[0m\u001b[0m\n",
      "\u001b[0;31mModuleNotFoundError\u001b[0m: No module named 'pandas_datareader'"
     ]
    }
   ],
   "source": [
    "import pandas as pd\n",
    "from pandas_datareader import data\n",
    "import datetime\n",
    "from bokeh.plotting import figure, show, output_file\n",
    "\n",
    "#Moderna’s mRNA-1273 vaccine candidate was the first to enter clinical trials, \n",
    "#just eight weeks after the genetic sequence for Covid-19 was published in January.\n",
    "\n",
    "start_date = datetime.datetime(2019,9,1)\n",
    "end_date = datetime.date.today()\n",
    "\n",
    "df = data.DataReader(name=\"MRNA\",data_source=\"yahoo\",start=start_date,end=end_date,retry_count=3)\n",
    "\n",
    "positive = df.index[df.Close > df.Open]\n",
    "negative = df.index[df.Close < df.Open]\n",
    "equal = df.index[df.Close == df.Open] \n",
    "hours_12 = 12*60*60*1000\n",
    "\n",
    "def status(op,cl):\n",
    "    if op > cl:\n",
    "        value = \"Decrease\"\n",
    "    elif op < cl:\n",
    "        value = \"Increase\"\n",
    "    else:\n",
    "        value = \"Equal\"\n",
    "    return value\n",
    "df[\"Status\"] = [status(op,cl) for op,cl in zip(df.Open,df.Close)]\n",
    "df[\"Center\"] = ((df.Open + df.Close)/2)\n",
    "df[\"Height\"] = (abs(df.Open - df.Close))\n",
    "        \n",
    "\n",
    "p = figure(x_axis_type='datetime', width=1000, height=400, sizing_mode=\"scale_width\")\n",
    "p.title.text = ('Moderna Stock Price Chart')\n",
    "p.grid.grid_line_alpha = 0.4\n",
    "\n",
    "#segments\n",
    "p.segment(df.index, df.Low, df.index, df.High, line_color=\"black\", line_dash=\"solid\")\n",
    "\n",
    "#increased value\n",
    "p.rect(df.index[df.Status == 'Increase'], df.Center[df.Status == 'Increase'],\n",
    "       hours_12, df.Height[df.Status == 'Increase'], fill_color='#4ad956',line_color=\"black\")\n",
    "\n",
    "#decreased value\n",
    "p.rect(df.index[df.Status == 'Decrease'], df.Center[df.Status == 'Decrease'],\n",
    "       hours_12, df.Height[df.Status == 'Decrease'], fill_color='#bf0202',line_color=\"black\")\n",
    "\n",
    "#equal value\n",
    "p.rect(df.index[df.Status == 'Equal'], df.Center[df.Status == 'Equal'],\n",
    "       hours_12, df.Height[df.Status == 'Equal'], fill_color='#9c9a9a',line_color=\"black\")\n",
    "\n",
    "output_file(\"CS.html\")\n",
    "show(p)"
   ]
  },
  {
   "cell_type": "code",
   "execution_count": null,
   "metadata": {},
   "outputs": [],
   "source": []
  }
 ],
 "metadata": {
  "kernelspec": {
   "display_name": "Python 3",
   "language": "python",
   "name": "python3"
  },
  "language_info": {
   "codemirror_mode": {
    "name": "ipython",
    "version": 3
   },
   "file_extension": ".py",
   "mimetype": "text/x-python",
   "name": "python",
   "nbconvert_exporter": "python",
   "pygments_lexer": "ipython3",
   "version": "3.7.4"
  }
 },
 "nbformat": 4,
 "nbformat_minor": 2
}
